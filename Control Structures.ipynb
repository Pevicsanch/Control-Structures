{
 "cells": [
  {
   "cell_type": "markdown",
   "id": "14d3bbf5",
   "metadata": {},
   "source": [
    "# IT Academy - Data Science Itinerary"
   ]
  },
  {
   "cell_type": "markdown",
   "id": "7a12d2ca",
   "metadata": {},
   "source": [
    "## S02-T03: Control Structures\n"
   ]
  },
  {
   "cell_type": "markdown",
   "id": "6a3a06b7",
   "metadata": {},
   "source": [
    "**1 :**\n",
    "    \n",
    "    Create a program that rates a numeric variable based on the Failed / Passed / Notable / Excellent scale."
   ]
  },
  {
   "cell_type": "markdown",
   "id": "cb9f1bab",
   "metadata": {},
   "source": [
    "+ grade list:\n",
    "    + grade: >= 9 ===> excellent\n",
    "    + grade: beetwen 7 and 8 ===> Notable\n",
    "    + grade: beetwen 5 and 6 ===> Passed\n",
    "    + grade: < 5 ===> Failed\n",
    "    \n",
    "we will write the function based in the grade list"
   ]
  },
  {
   "cell_type": "code",
   "execution_count": 1,
   "id": "6c181f80",
   "metadata": {
    "ExecuteTime": {
     "end_time": "2022-01-31T10:56:53.729164Z",
     "start_time": "2022-01-31T10:56:53.716218Z"
    }
   },
   "outputs": [],
   "source": [
    "def grade_classification(grade):\n",
    "    \"\"\" grade_classification() is a function that takes a numerical grade as input and returns a rate based on the Failed / Passed / Notable / Excellent scale. \"\"\"\n",
    "    if type(grade) == int or type(grade) == float:\n",
    "        \n",
    "        if grade < 0 or grade > 10:\n",
    "            return (\"Invalid grade\")\n",
    "       \n",
    "        elif grade >= 9:\n",
    "            return (\"Excellent\")\n",
    "        \n",
    "        elif grade >= 7:\n",
    "            return (\"Notable\")\n",
    "      \n",
    "        elif grade >= 5:\n",
    "            return (\"Passed\")\n",
    "    \n",
    "        if grade < 5:\n",
    "            return (\"Failed\")  \n",
    "    else:\n",
    "        print(\"Invalid grade. Enter a numerical grade\")"
   ]
  },
  {
   "cell_type": "markdown",
   "id": "94dabbf2",
   "metadata": {},
   "source": [
    " testing the function:"
   ]
  },
  {
   "cell_type": "code",
   "execution_count": 2,
   "id": "7a743250",
   "metadata": {
    "ExecuteTime": {
     "end_time": "2022-01-31T10:56:53.737161Z",
     "start_time": "2022-01-31T10:56:53.732345Z"
    }
   },
   "outputs": [
    {
     "name": "stdout",
     "output_type": "stream",
     "text": [
      "[2, 5, 3, 7, 8, 1, 0]\n",
      "2 Failed\n",
      "5 Passed\n",
      "3 Failed\n",
      "7 Notable\n",
      "8 Notable\n",
      "1 Failed\n",
      "0 Failed\n"
     ]
    }
   ],
   "source": [
    "import random\n",
    "\n",
    "random_grade = random.sample(range(10), 7)\n",
    "print(random_grade)\n",
    "\n",
    "for grade in random_grade:\n",
    "    print(grade, grade_classification(grade))"
   ]
  },
  {
   "cell_type": "markdown",
   "id": "3785fa3d",
   "metadata": {},
   "source": [
    "**2 :**\n",
    "\n",
    "    Create a program that asks for two numbers. It should show a message saying if the first one is bigger, the second one is bigger or they are the same."
   ]
  },
  {
   "cell_type": "code",
   "execution_count": 3,
   "id": "97997331",
   "metadata": {
    "ExecuteTime": {
     "end_time": "2022-01-31T10:56:53.747290Z",
     "start_time": "2022-01-31T10:56:53.740284Z"
    }
   },
   "outputs": [],
   "source": [
    "\n",
    "def check_numbers():\n",
    "    \"\"\" check_numbers() is function that requests the user to enter two interger numbers and compares them\n",
    "    saying if the first one is bigger, the second one is bigger or they are the same\"\"\"\n",
    "    \n",
    "    num_1 = input(\"enter your first number: \")\n",
    "    \n",
    "    while num_1.isdigit() == False:\n",
    "        print(num_1,\" is not a interger number, write a number\")\n",
    "        num_1 = input(\"Try again! enter your first number: \")\n",
    "        \n",
    "    \n",
    "    num_2 = input(\"enter your second number: \")\n",
    "    \n",
    "    while num_2.isdigit() == False:\n",
    "        print(num_2,\" is not a interger number, write a number\")\n",
    "        num_2 = input(\"Try again! enter your second number: \")\n",
    "    \n",
    "    if int(num_1) == int(num_2):\n",
    "        print(\"The first number\",num1,\"is the same as the second number\",num_2)\n",
    "    \n",
    "    elif int(num_1) > int(num_2):\n",
    "        print(\"The first number\",num_1,\"is bigger than the second number\", num_2)\n",
    "    \n",
    "    else:\n",
    "        print(\"The second number\",num_2,\"is bigger than the first number\",num_1)\n"
   ]
  },
  {
   "cell_type": "code",
   "execution_count": 4,
   "id": "38ef3302",
   "metadata": {
    "ExecuteTime": {
     "end_time": "2022-01-31T10:57:01.831217Z",
     "start_time": "2022-01-31T10:56:53.751832Z"
    }
   },
   "outputs": [
    {
     "name": "stdout",
     "output_type": "stream",
     "text": [
      "enter your first number: 3\n",
      "enter your second number: 6\n",
      "The second number 6 is bigger than the first number 3\n"
     ]
    }
   ],
   "source": [
    "check_numbers()"
   ]
  },
  {
   "cell_type": "markdown",
   "id": "7d725bda",
   "metadata": {},
   "source": [
    "**3 :**\n",
    "\n",
    "    Create a program that asks the user for a name and number. If the number is 0, it should display an error message. Otherwise, it should display the repeated name as many times as the number indicates. For example, \n",
    "    “Joan Joan Joan”.\n",
    "\n"
   ]
  },
  {
   "cell_type": "code",
   "execution_count": 5,
   "id": "11dc6b3b",
   "metadata": {
    "ExecuteTime": {
     "end_time": "2022-01-31T10:57:01.838669Z",
     "start_time": "2022-01-31T10:57:01.833687Z"
    }
   },
   "outputs": [],
   "source": [
    "def name_repeated():\n",
    "    \"\"\"name_reapeated() is a fuction that requests the user to input a name, and then input a number.\n",
    "    The name is displayed repeatedly for the number of times the user indicates.\"\"\"\n",
    "    name = input(\"Enter your name: \")\n",
    "    \n",
    "    number = input(\"Enter a number: \")\n",
    "    while number.isdigit() == False:\n",
    "        print(number,\" is not a interger number, write a number\")\n",
    "        number = input(\"Try again! enter a number: \")\n",
    "    \n",
    "    number = int(number)\n",
    "    \n",
    "    if number <=0:\n",
    "        \n",
    "        while number <= 0:\n",
    "            number = int(input(\"Please enter a positive number greater than zero: \"))\n",
    "    print ((name + \" \" )* number)"
   ]
  },
  {
   "cell_type": "code",
   "execution_count": 6,
   "id": "c6c4ee00",
   "metadata": {
    "ExecuteTime": {
     "end_time": "2022-01-31T10:57:12.024561Z",
     "start_time": "2022-01-31T10:57:01.843503Z"
    }
   },
   "outputs": [
    {
     "name": "stdout",
     "output_type": "stream",
     "text": [
      "Enter your name: Harry\n",
      "Enter a number: 8\n",
      "Harry Harry Harry Harry Harry Harry Harry Harry \n"
     ]
    }
   ],
   "source": [
    "name_repeated()\n"
   ]
  },
  {
   "cell_type": "markdown",
   "id": "1dbec03f",
   "metadata": {},
   "source": [
    "**4 :**\n",
    "\n",
    "    Create a program that given any list, tells the user if it is symmetrical or not. \n",
    "    If so, tell the user how many items it has."
   ]
  },
  {
   "cell_type": "code",
   "execution_count": 7,
   "id": "e5b751c9",
   "metadata": {
    "ExecuteTime": {
     "end_time": "2022-01-31T10:57:12.033760Z",
     "start_time": "2022-01-31T10:57:12.029195Z"
    }
   },
   "outputs": [],
   "source": [
    "def is_symmetrical(list):\n",
    "    \"\"\" is_symmetrical(list) is a fuction takes a list as input and reports \n",
    "    whether or not the list is symmetric.\n",
    "    If symmetric, it also states the number of items in the list\"\"\"\n",
    "    \n",
    "    if list == list[::-1]:\n",
    "         print(\"The list is symmetric, and it has\", len(list), \"items.\")\n",
    "    else:\n",
    "        print(\"The list is not symmetric.\")"
   ]
  },
  {
   "cell_type": "code",
   "execution_count": 8,
   "id": "1a9ea6f3",
   "metadata": {
    "ExecuteTime": {
     "end_time": "2022-01-31T10:57:12.042982Z",
     "start_time": "2022-01-31T10:57:12.037850Z"
    }
   },
   "outputs": [],
   "source": [
    "list_1 = [\"a\",\"b\",\"c\"]\n",
    "list_2 = [\"a\",\"b\",\"a\"]"
   ]
  },
  {
   "cell_type": "code",
   "execution_count": 9,
   "id": "b5347a2d",
   "metadata": {
    "ExecuteTime": {
     "end_time": "2022-01-31T10:57:12.049757Z",
     "start_time": "2022-01-31T10:57:12.045436Z"
    }
   },
   "outputs": [
    {
     "name": "stdout",
     "output_type": "stream",
     "text": [
      "The list is not symmetric.\n"
     ]
    }
   ],
   "source": [
    "is_symmetrical(list_1)"
   ]
  },
  {
   "cell_type": "code",
   "execution_count": 10,
   "id": "40085996",
   "metadata": {
    "ExecuteTime": {
     "end_time": "2022-01-31T10:57:12.057074Z",
     "start_time": "2022-01-31T10:57:12.052675Z"
    }
   },
   "outputs": [
    {
     "name": "stdout",
     "output_type": "stream",
     "text": [
      "The list is symmetric, and it has 3 items.\n"
     ]
    }
   ],
   "source": [
    "is_symmetrical(list_2)"
   ]
  },
  {
   "cell_type": "markdown",
   "id": "46b020ff",
   "metadata": {},
   "source": [
    "**5 :**\n",
    "\n",
    "    Create a program that given a list, tells the user how many numbers match thier position. \n",
    "    For example, in the list [3,4,2,0,2,3,6], numbers 2 and 6 coincide."
   ]
  },
  {
   "cell_type": "code",
   "execution_count": 11,
   "id": "b373cd3e",
   "metadata": {
    "ExecuteTime": {
     "end_time": "2022-01-31T10:57:12.069178Z",
     "start_time": "2022-01-31T10:57:12.060793Z"
    }
   },
   "outputs": [],
   "source": [
    "def index_list_match(my_list):\n",
    "    \"\"\"index_list_match(list) is function that takes a list as input and reports \n",
    "    how many numbers in the list match their index position \"\"\"\n",
    "    \n",
    "    i = 0\n",
    "    match_items = []\n",
    "    \n",
    "    for item in my_list:\n",
    "        if my_list.index(item) == item:\n",
    "            \n",
    "            match_items.append(item)\n",
    "            i += 1\n",
    "    if i > 0 :\n",
    "        print (\"The list has\", i, \"numbers equal to its index\")\n",
    "        print (\"items that match are:\", match_items)\n",
    "    else:\n",
    "        print(\"No elements equal to index found\")\n",
    "      "
   ]
  },
  {
   "cell_type": "code",
   "execution_count": 12,
   "id": "486d4c93",
   "metadata": {
    "ExecuteTime": {
     "end_time": "2022-01-31T10:57:12.079428Z",
     "start_time": "2022-01-31T10:57:12.072221Z"
    }
   },
   "outputs": [
    {
     "name": "stdout",
     "output_type": "stream",
     "text": [
      "The list has 6 numbers equal to its index\n",
      "items that match are: [0, 1, 2, 3, 4, 5]\n"
     ]
    }
   ],
   "source": [
    "a = [0,1,2,3,4,5]\n",
    "index_list_match(a)"
   ]
  },
  {
   "cell_type": "code",
   "execution_count": 13,
   "id": "30b1458f",
   "metadata": {
    "ExecuteTime": {
     "end_time": "2022-01-31T10:57:12.086836Z",
     "start_time": "2022-01-31T10:57:12.082226Z"
    }
   },
   "outputs": [
    {
     "name": "stdout",
     "output_type": "stream",
     "text": [
      "The list has 2 numbers equal to its index\n",
      "items that match are: [6, 7]\n"
     ]
    }
   ],
   "source": [
    "b = [2,3,4,5,\"a\",5,6,7]\n",
    "index_list_match(b)"
   ]
  },
  {
   "cell_type": "code",
   "execution_count": null,
   "id": "600d6898",
   "metadata": {},
   "outputs": [],
   "source": []
  }
 ],
 "metadata": {
  "kernelspec": {
   "display_name": "Python 3 (ipykernel)",
   "language": "python",
   "name": "python3"
  },
  "language_info": {
   "codemirror_mode": {
    "name": "ipython",
    "version": 3
   },
   "file_extension": ".py",
   "mimetype": "text/x-python",
   "name": "python",
   "nbconvert_exporter": "python",
   "pygments_lexer": "ipython3",
   "version": "3.9.7"
  }
 },
 "nbformat": 4,
 "nbformat_minor": 5
}
